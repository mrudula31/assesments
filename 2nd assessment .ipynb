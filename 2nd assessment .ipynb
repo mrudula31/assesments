{
 "cells": [
  {
   "cell_type": "code",
   "execution_count": 1,
   "id": "0a8443a2",
   "metadata": {},
   "outputs": [],
   "source": [
    "#There is an Exercise folder that contains carprices.csv. This file has car sell prices for 3 different models. First plot data points on a scatter plot chart to see if linear regression model can be applied. If yes, then build a model that can answer following questions,\n",
    "#1) Predict price of a mercedez benz that is 4 yr old with mileage 45000\n",
    "#2) Predict price of a BMW X5 that is 7 yr old with mileage 86000\n",
    "#3) Tell me the score (accuracy) of your model. (Hint: use LinearRegression().score())"
   ]
  },
  {
   "cell_type": "code",
   "execution_count": 2,
   "id": "8f4f4ca0",
   "metadata": {},
   "outputs": [],
   "source": [
    "import pandas as pd\n",
    "import matplotlib.pyplot as plt\n",
    "from sklearn.linear_model import LinearRegression\n",
    "from sklearn.preprocessing import LabelEncoder, OneHotEncoder"
   ]
  },
  {
   "cell_type": "code",
   "execution_count": 4,
   "id": "5e49d76b",
   "metadata": {},
   "outputs": [
    {
     "data": {
      "text/html": [
       "<div>\n",
       "<style scoped>\n",
       "    .dataframe tbody tr th:only-of-type {\n",
       "        vertical-align: middle;\n",
       "    }\n",
       "\n",
       "    .dataframe tbody tr th {\n",
       "        vertical-align: top;\n",
       "    }\n",
       "\n",
       "    .dataframe thead th {\n",
       "        text-align: right;\n",
       "    }\n",
       "</style>\n",
       "<table border=\"1\" class=\"dataframe\">\n",
       "  <thead>\n",
       "    <tr style=\"text-align: right;\">\n",
       "      <th></th>\n",
       "      <th>Car Model</th>\n",
       "      <th>Mileage</th>\n",
       "      <th>Sell Price($)</th>\n",
       "      <th>Age(yrs)</th>\n",
       "    </tr>\n",
       "  </thead>\n",
       "  <tbody>\n",
       "    <tr>\n",
       "      <th>0</th>\n",
       "      <td>BMW X5</td>\n",
       "      <td>69000</td>\n",
       "      <td>18000</td>\n",
       "      <td>6</td>\n",
       "    </tr>\n",
       "    <tr>\n",
       "      <th>1</th>\n",
       "      <td>BMW X5</td>\n",
       "      <td>35000</td>\n",
       "      <td>34000</td>\n",
       "      <td>3</td>\n",
       "    </tr>\n",
       "    <tr>\n",
       "      <th>2</th>\n",
       "      <td>BMW X5</td>\n",
       "      <td>57000</td>\n",
       "      <td>26100</td>\n",
       "      <td>5</td>\n",
       "    </tr>\n",
       "    <tr>\n",
       "      <th>3</th>\n",
       "      <td>BMW X5</td>\n",
       "      <td>22500</td>\n",
       "      <td>40000</td>\n",
       "      <td>2</td>\n",
       "    </tr>\n",
       "    <tr>\n",
       "      <th>4</th>\n",
       "      <td>BMW X5</td>\n",
       "      <td>46000</td>\n",
       "      <td>31500</td>\n",
       "      <td>4</td>\n",
       "    </tr>\n",
       "    <tr>\n",
       "      <th>5</th>\n",
       "      <td>Audi A5</td>\n",
       "      <td>59000</td>\n",
       "      <td>29400</td>\n",
       "      <td>5</td>\n",
       "    </tr>\n",
       "    <tr>\n",
       "      <th>6</th>\n",
       "      <td>Audi A5</td>\n",
       "      <td>52000</td>\n",
       "      <td>32000</td>\n",
       "      <td>5</td>\n",
       "    </tr>\n",
       "    <tr>\n",
       "      <th>7</th>\n",
       "      <td>Audi A5</td>\n",
       "      <td>72000</td>\n",
       "      <td>19300</td>\n",
       "      <td>6</td>\n",
       "    </tr>\n",
       "    <tr>\n",
       "      <th>8</th>\n",
       "      <td>Audi A5</td>\n",
       "      <td>91000</td>\n",
       "      <td>12000</td>\n",
       "      <td>8</td>\n",
       "    </tr>\n",
       "    <tr>\n",
       "      <th>9</th>\n",
       "      <td>Mercedez Benz C class</td>\n",
       "      <td>67000</td>\n",
       "      <td>22000</td>\n",
       "      <td>6</td>\n",
       "    </tr>\n",
       "    <tr>\n",
       "      <th>10</th>\n",
       "      <td>Mercedez Benz C class</td>\n",
       "      <td>83000</td>\n",
       "      <td>20000</td>\n",
       "      <td>7</td>\n",
       "    </tr>\n",
       "    <tr>\n",
       "      <th>11</th>\n",
       "      <td>Mercedez Benz C class</td>\n",
       "      <td>79000</td>\n",
       "      <td>21000</td>\n",
       "      <td>7</td>\n",
       "    </tr>\n",
       "    <tr>\n",
       "      <th>12</th>\n",
       "      <td>Mercedez Benz C class</td>\n",
       "      <td>59000</td>\n",
       "      <td>33000</td>\n",
       "      <td>5</td>\n",
       "    </tr>\n",
       "  </tbody>\n",
       "</table>\n",
       "</div>"
      ],
      "text/plain": [
       "                Car Model  Mileage  Sell Price($)  Age(yrs)\n",
       "0                  BMW X5    69000          18000         6\n",
       "1                  BMW X5    35000          34000         3\n",
       "2                  BMW X5    57000          26100         5\n",
       "3                  BMW X5    22500          40000         2\n",
       "4                  BMW X5    46000          31500         4\n",
       "5                 Audi A5    59000          29400         5\n",
       "6                 Audi A5    52000          32000         5\n",
       "7                 Audi A5    72000          19300         6\n",
       "8                 Audi A5    91000          12000         8\n",
       "9   Mercedez Benz C class    67000          22000         6\n",
       "10  Mercedez Benz C class    83000          20000         7\n",
       "11  Mercedez Benz C class    79000          21000         7\n",
       "12  Mercedez Benz C class    59000          33000         5"
      ]
     },
     "execution_count": 4,
     "metadata": {},
     "output_type": "execute_result"
    }
   ],
   "source": [
    "df = pd.read_csv('carprices.csv')\n",
    "df"
   ]
  },
  {
   "cell_type": "code",
   "execution_count": 5,
   "id": "01f90d39",
   "metadata": {},
   "outputs": [
    {
     "data": {
      "text/plain": [
       "<matplotlib.collections.PathCollection at 0x21485acb2b0>"
      ]
     },
     "execution_count": 5,
     "metadata": {},
     "output_type": "execute_result"
    },
    {
     "data": {
      "image/png": "[encoded data removed]",
      "text/plain": [
       "<Figure size 432x288 with 1 Axes>"
      ]
     },
     "metadata": {
      "needs_background": "light"
     },
     "output_type": "display_data"
    }
   ],
   "source": [
    "plt.xlabel('Mileage')\n",
    "plt.ylabel('Sell Price($)')\n",
    "plt.scatter(df['Mileage'],df['Sell Price($)'],color='yellow')"
   ]
  },
  {
   "cell_type": "code",
   "execution_count": 6,
   "id": "3bb5da09",
   "metadata": {},
   "outputs": [
    {
     "data": {
      "text/plain": [
       "<matplotlib.collections.PathCollection at 0x21485bb69d0>"
      ]
     },
     "execution_count": 6,
     "metadata": {},
     "output_type": "execute_result"
    },
    {
     "data": {
      "image/png": "[encoded data removed]",
      "text/plain": [
       "<Figure size 432x288 with 1 Axes>"
      ]
     },
     "metadata": {
      "needs_background": "light"
     },
     "output_type": "display_data"
    }
   ],
   "source": [
    "plt.xlabel('Age(yrs)')\n",
    "plt.ylabel('Sell Price($)')\n",
    "plt.scatter(df['Age(yrs)'],df['Sell Price($)'],color='blue')"
   ]
  },
  {
   "cell_type": "code",
   "execution_count": 7,
   "id": "0b7f8a2b",
   "metadata": {},
   "outputs": [],
   "source": [
    "le = LabelEncoder()"
   ]
  },
  {
   "cell_type": "code",
   "execution_count": 8,
   "id": "58fbd43c",
   "metadata": {},
   "outputs": [
    {
     "data": {
      "text/html": [
       "<div>\n",
       "<style scoped>\n",
       "    .dataframe tbody tr th:only-of-type {\n",
       "        vertical-align: middle;\n",
       "    }\n",
       "\n",
       "    .dataframe tbody tr th {\n",
       "        vertical-align: top;\n",
       "    }\n",
       "\n",
       "    .dataframe thead th {\n",
       "        text-align: right;\n",
       "    }\n",
       "</style>\n",
       "<table border=\"1\" class=\"dataframe\">\n",
       "  <thead>\n",
       "    <tr style=\"text-align: right;\">\n",
       "      <th></th>\n",
       "      <th>Car Model</th>\n",
       "      <th>Mileage</th>\n",
       "      <th>Sell Price($)</th>\n",
       "      <th>Age(yrs)</th>\n",
       "    </tr>\n",
       "  </thead>\n",
       "  <tbody>\n",
       "    <tr>\n",
       "      <th>0</th>\n",
       "      <td>1</td>\n",
       "      <td>69000</td>\n",
       "      <td>18000</td>\n",
       "      <td>6</td>\n",
       "    </tr>\n",
       "    <tr>\n",
       "      <th>1</th>\n",
       "      <td>1</td>\n",
       "      <td>35000</td>\n",
       "      <td>34000</td>\n",
       "      <td>3</td>\n",
       "    </tr>\n",
       "    <tr>\n",
       "      <th>2</th>\n",
       "      <td>1</td>\n",
       "      <td>57000</td>\n",
       "      <td>26100</td>\n",
       "      <td>5</td>\n",
       "    </tr>\n",
       "    <tr>\n",
       "      <th>3</th>\n",
       "      <td>1</td>\n",
       "      <td>22500</td>\n",
       "      <td>40000</td>\n",
       "      <td>2</td>\n",
       "    </tr>\n",
       "    <tr>\n",
       "      <th>4</th>\n",
       "      <td>1</td>\n",
       "      <td>46000</td>\n",
       "      <td>31500</td>\n",
       "      <td>4</td>\n",
       "    </tr>\n",
       "    <tr>\n",
       "      <th>5</th>\n",
       "      <td>0</td>\n",
       "      <td>59000</td>\n",
       "      <td>29400</td>\n",
       "      <td>5</td>\n",
       "    </tr>\n",
       "    <tr>\n",
       "      <th>6</th>\n",
       "      <td>0</td>\n",
       "      <td>52000</td>\n",
       "      <td>32000</td>\n",
       "      <td>5</td>\n",
       "    </tr>\n",
       "    <tr>\n",
       "      <th>7</th>\n",
       "      <td>0</td>\n",
       "      <td>72000</td>\n",
       "      <td>19300</td>\n",
       "      <td>6</td>\n",
       "    </tr>\n",
       "    <tr>\n",
       "      <th>8</th>\n",
       "      <td>0</td>\n",
       "      <td>91000</td>\n",
       "      <td>12000</td>\n",
       "      <td>8</td>\n",
       "    </tr>\n",
       "    <tr>\n",
       "      <th>9</th>\n",
       "      <td>2</td>\n",
       "      <td>67000</td>\n",
       "      <td>22000</td>\n",
       "      <td>6</td>\n",
       "    </tr>\n",
       "    <tr>\n",
       "      <th>10</th>\n",
       "      <td>2</td>\n",
       "      <td>83000</td>\n",
       "      <td>20000</td>\n",
       "      <td>7</td>\n",
       "    </tr>\n",
       "    <tr>\n",
       "      <th>11</th>\n",
       "      <td>2</td>\n",
       "      <td>79000</td>\n",
       "      <td>21000</td>\n",
       "      <td>7</td>\n",
       "    </tr>\n",
       "    <tr>\n",
       "      <th>12</th>\n",
       "      <td>2</td>\n",
       "      <td>59000</td>\n",
       "      <td>33000</td>\n",
       "      <td>5</td>\n",
       "    </tr>\n",
       "  </tbody>\n",
       "</table>\n",
       "</div>"
      ],
      "text/plain": [
       "    Car Model  Mileage  Sell Price($)  Age(yrs)\n",
       "0           1    69000          18000         6\n",
       "1           1    35000          34000         3\n",
       "2           1    57000          26100         5\n",
       "3           1    22500          40000         2\n",
       "4           1    46000          31500         4\n",
       "5           0    59000          29400         5\n",
       "6           0    52000          32000         5\n",
       "7           0    72000          19300         6\n",
       "8           0    91000          12000         8\n",
       "9           2    67000          22000         6\n",
       "10          2    83000          20000         7\n",
       "11          2    79000          21000         7\n",
       "12          2    59000          33000         5"
      ]
     },
     "execution_count": 8,
     "metadata": {},
     "output_type": "execute_result"
    }
   ],
   "source": [
    "dfle = df\n",
    "dfle['Car Model'] = le.fit_transform(dfle['Car Model'])\n",
    "dfle"
   ]
  },
  {
   "cell_type": "code",
   "execution_count": 9,
   "id": "5c6d4ccc",
   "metadata": {},
   "outputs": [
    {
     "data": {
      "text/plain": [
       "array([[    1, 69000,     6],\n",
       "       [    1, 35000,     3],\n",
       "       [    1, 57000,     5],\n",
       "       [    1, 22500,     2],\n",
       "       [    1, 46000,     4],\n",
       "       [    0, 59000,     5],\n",
       "       [    0, 52000,     5],\n",
       "       [    0, 72000,     6],\n",
       "       [    0, 91000,     8],\n",
       "       [    2, 67000,     6],\n",
       "       [    2, 83000,     7],\n",
       "       [    2, 79000,     7],\n",
       "       [    2, 59000,     5]], dtype=int64)"
      ]
     },
     "execution_count": 9,
     "metadata": {},
     "output_type": "execute_result"
    }
   ],
   "source": [
    "X = dfle[['Car Model','Mileage','Age(yrs)']].values\n",
    "X"
   ]
  },
  {
   "cell_type": "code",
   "execution_count": 10,
   "id": "e75cc680",
   "metadata": {},
   "outputs": [
    {
     "data": {
      "text/plain": [
       "array([[18000],\n",
       "       [34000],\n",
       "       [26100],\n",
       "       [40000],\n",
       "       [31500],\n",
       "       [29400],\n",
       "       [32000],\n",
       "       [19300],\n",
       "       [12000],\n",
       "       [22000],\n",
       "       [20000],\n",
       "       [21000],\n",
       "       [33000]], dtype=int64)"
      ]
     },
     "execution_count": 10,
     "metadata": {},
     "output_type": "execute_result"
    }
   ],
   "source": [
    "y = dfle[['Sell Price($)']].values\n",
    "y"
   ]
  },
  {
   "cell_type": "code",
   "execution_count": 11,
   "id": "c2b5d7c4",
   "metadata": {},
   "outputs": [],
   "source": [
    "from sklearn.compose import ColumnTransformer\n",
    "ct=ColumnTransformer([('Car Model', OneHotEncoder(), [0])], remainder='passthrough')"
   ]
  },
  {
   "cell_type": "code",
   "execution_count": 12,
   "id": "b14d33e0",
   "metadata": {},
   "outputs": [
    {
     "data": {
      "text/plain": [
       "array([[0.00e+00, 1.00e+00, 0.00e+00, 6.90e+04, 6.00e+00],\n",
       "       [0.00e+00, 1.00e+00, 0.00e+00, 3.50e+04, 3.00e+00],\n",
       "       [0.00e+00, 1.00e+00, 0.00e+00, 5.70e+04, 5.00e+00],\n",
       "       [0.00e+00, 1.00e+00, 0.00e+00, 2.25e+04, 2.00e+00],\n",
       "       [0.00e+00, 1.00e+00, 0.00e+00, 4.60e+04, 4.00e+00],\n",
       "       [1.00e+00, 0.00e+00, 0.00e+00, 5.90e+04, 5.00e+00],\n",
       "       [1.00e+00, 0.00e+00, 0.00e+00, 5.20e+04, 5.00e+00],\n",
       "       [1.00e+00, 0.00e+00, 0.00e+00, 7.20e+04, 6.00e+00],\n",
       "       [1.00e+00, 0.00e+00, 0.00e+00, 9.10e+04, 8.00e+00],\n",
       "       [0.00e+00, 0.00e+00, 1.00e+00, 6.70e+04, 6.00e+00],\n",
       "       [0.00e+00, 0.00e+00, 1.00e+00, 8.30e+04, 7.00e+00],\n",
       "       [0.00e+00, 0.00e+00, 1.00e+00, 7.90e+04, 7.00e+00],\n",
       "       [0.00e+00, 0.00e+00, 1.00e+00, 5.90e+04, 5.00e+00]])"
      ]
     },
     "execution_count": 12,
     "metadata": {},
     "output_type": "execute_result"
    }
   ],
   "source": [
    "X=ct.fit_transform(X)\n",
    "X"
   ]
  },
  {
   "cell_type": "code",
   "execution_count": 13,
   "id": "04f1086f",
   "metadata": {},
   "outputs": [
    {
     "data": {
      "text/plain": [
       "array([[1.00e+00, 0.00e+00, 6.90e+04, 6.00e+00],\n",
       "       [1.00e+00, 0.00e+00, 3.50e+04, 3.00e+00],\n",
       "       [1.00e+00, 0.00e+00, 5.70e+04, 5.00e+00],\n",
       "       [1.00e+00, 0.00e+00, 2.25e+04, 2.00e+00],\n",
       "       [1.00e+00, 0.00e+00, 4.60e+04, 4.00e+00],\n",
       "       [0.00e+00, 0.00e+00, 5.90e+04, 5.00e+00],\n",
       "       [0.00e+00, 0.00e+00, 5.20e+04, 5.00e+00],\n",
       "       [0.00e+00, 0.00e+00, 7.20e+04, 6.00e+00],\n",
       "       [0.00e+00, 0.00e+00, 9.10e+04, 8.00e+00],\n",
       "       [0.00e+00, 1.00e+00, 6.70e+04, 6.00e+00],\n",
       "       [0.00e+00, 1.00e+00, 8.30e+04, 7.00e+00],\n",
       "       [0.00e+00, 1.00e+00, 7.90e+04, 7.00e+00],\n",
       "       [0.00e+00, 1.00e+00, 5.90e+04, 5.00e+00]])"
      ]
     },
     "execution_count": 13,
     "metadata": {},
     "output_type": "execute_result"
    }
   ],
   "source": [
    "X=X[:, 1:]\n",
    "X"
   ]
  },
  {
   "cell_type": "code",
   "execution_count": 14,
   "id": "b8532461",
   "metadata": {},
   "outputs": [
    {
     "data": {
      "text/plain": [
       "LinearRegression()"
      ]
     },
     "execution_count": 14,
     "metadata": {},
     "output_type": "execute_result"
    }
   ],
   "source": [
    "model = LinearRegression()\n",
    "model.fit(X,y)"
   ]
  },
  {
   "cell_type": "code",
   "execution_count": 15,
   "id": "8c39f65a",
   "metadata": {},
   "outputs": [
    {
     "data": {
      "text/plain": [
       "array([[36991.31721062]])"
      ]
     },
     "execution_count": 15,
     "metadata": {},
     "output_type": "execute_result"
    }
   ],
   "source": [
    "#predicting the price of benz which is four years old and has mileage of 4500\n",
    "model.predict([[0,1,45000,4]])  "
   ]
  },
  {
   "cell_type": "code",
   "execution_count": 16,
   "id": "91fa519a",
   "metadata": {},
   "outputs": [
    {
     "data": {
      "text/plain": [
       "array([[11080.74313219]])"
      ]
     },
     "execution_count": 16,
     "metadata": {},
     "output_type": "execute_result"
    }
   ],
   "source": [
    "#predicting the price of bmw x5 car which is 7 years old and has mileage of 86000\n",
    "model.predict([[1,0,86000,7]])"
   ]
  },
  {
   "cell_type": "code",
   "execution_count": 17,
   "id": "62fe1255",
   "metadata": {},
   "outputs": [
    {
     "data": {
      "text/plain": [
       "0.9417050937281082"
      ]
     },
     "execution_count": 17,
     "metadata": {},
     "output_type": "execute_result"
    }
   ],
   "source": [
    "#calculating finsl scoring of the model\n",
    "model.score(X,y)  "
   ]
  },
  {
   "cell_type": "code",
   "execution_count": null,
   "id": "9ea0b7f1",
   "metadata": {},
   "outputs": [],
   "source": [
    "Predicted price of a mercedez benz that is 4 yr old with mileage 45000 is 36991.31721062\n",
    "\n",
    "Predicted price of a BMW X5 that is 7 yr old with mileage 86000 is 11080.74313219\n",
    "\n",
    "Score (accuracy) of the model is 0.9417050937281082"
   ]
  }
 ],
 "metadata": {
  "kernelspec": {
   "display_name": "Python 3",
   "language": "python",
   "name": "python3"
  },
  "language_info": {
   "codemirror_mode": {
    "name": "ipython",
    "version": 3
   },
   "file_extension": ".py",
   "mimetype": "text/x-python",
   "name": "python",
   "nbconvert_exporter": "python",
   "pygments_lexer": "ipython3",
   "version": "3.8.8"
  }
 },
 "nbformat": 4,
 "nbformat_minor": 5
}
